{
 "cells": [
  {
   "cell_type": "markdown",
   "metadata": {},
   "source": [
    "# Introduction to Apache Spark"
   ]
  },
  {
   "cell_type": "markdown",
   "metadata": {},
   "source": [
    "_Apache Spark is a fast and general engine for large-scale data processing._ Our aim here is to get ourselves a bit familiar with Spark using Python. Spark's API can also be accessed via Scala, R or Java."
   ]
  },
  {
   "cell_type": "markdown",
   "metadata": {},
   "source": [
    "__NOTE__: In this introduction we use a very small dataset. This is mainly because the machine that this was written on is not powerful enough to deal with large datasets."
   ]
  },
  {
   "cell_type": "markdown",
   "metadata": {},
   "source": [
    "## The Map Reduce programming model"
   ]
  },
  {
   "cell_type": "markdown",
   "metadata": {},
   "source": [
    "_\"The map function processes a key/value pair to generate a set of intermediate key/value pairs, and the reduce function merges all intermediate values associated with the same intermediate key.\"_"
   ]
  },
  {
   "cell_type": "markdown",
   "metadata": {},
   "source": [
    "The following paper explains more or less everything that one needs to know about MapReduce: [MapReduce: Simplified Data Processing on Large Cluster](https://static.googleusercontent.com/media/research.google.com/en//archive/mapreduce-osdi04.pdf)"
   ]
  },
  {
   "cell_type": "markdown",
   "metadata": {},
   "source": [
    "## Spark Context"
   ]
  },
  {
   "cell_type": "markdown",
   "metadata": {},
   "source": [
    "The very first job that a Spark program does is to establish a connection to a Spark cluster. This is done by creating a [SparkContext](http://spark.apache.org/docs/latest/api/python/pyspark.html#pyspark.SparkContext) object. In order to create a SparkContext object, we need to specify some information about our application which is done by building a [SparkConf](http://spark.apache.org/docs/latest/api/python/pyspark.html#pyspark.SparkConf) object."
   ]
  },
  {
   "cell_type": "code",
   "execution_count": 1,
   "metadata": {},
   "outputs": [],
   "source": [
    "from pyspark import SparkConf\n",
    "from pyspark import SparkContext\n",
    "import os\n",
    "from IPython.display import Image\n",
    "from IPython.core.display import HTML\n",
    "from operator import add\n",
    "import nltk\n",
    "from nltk.corpus import stopwords\n",
    "import re\n",
    "import pandas as pd\n",
    "import matplotlib.pyplot as plt\n",
    "import seaborn as sns\n",
    "from wordcloud import WordCloud\n",
    "\n",
    "%matplotlib inline\n",
    "sns.set(style=\"darkgrid\")"
   ]
  },
  {
   "cell_type": "code",
   "execution_count": 2,
   "metadata": {},
   "outputs": [],
   "source": [
    "# Make Spark work on Windows\n",
    "# os.environ['SPARK_HOME'] = r\"C:\\Users\\iulian.udrea\\Downloads\\spark-2.2.0-bin-hadoop2.7\""
   ]
  },
  {
   "cell_type": "code",
   "execution_count": 3,
   "metadata": {},
   "outputs": [],
   "source": [
    "# Initialise SparkContext\n",
    "# conf = SparkConf().setAppName(APP_NAME).setMaster(MASTER_URL)\n",
    "conf = SparkConf().setAppName(\"SSCI_study_DIP\").setMaster(\"local[*]\")\n",
    "sc = SparkContext(conf=conf)\n",
    "# sc = SparkContext.getOrCreate(conf=conf)"
   ]
  },
  {
   "cell_type": "markdown",
   "metadata": {},
   "source": [
    "`APP_NAME` is the name of the application and `MASTER_URL` is the cluster's URL (e.g.: spark://10.193.173.68:51266)."
   ]
  },
  {
   "cell_type": "markdown",
   "metadata": {},
   "source": [
    "Below is a diagram showing the relationship between the driver program, the cluster resource manager and executors:"
   ]
  },
  {
   "cell_type": "code",
   "execution_count": 4,
   "metadata": {},
   "outputs": [
    {
     "data": {
      "text/html": [
       "<img src=\"https://spark.apache.org/docs/latest/img/cluster-overview.png\"/>"
      ],
      "text/plain": [
       "<IPython.core.display.Image object>"
      ]
     },
     "execution_count": 4,
     "metadata": {},
     "output_type": "execute_result"
    }
   ],
   "source": [
    "Image(url=\"https://spark.apache.org/docs/latest/img/cluster-overview.png\")"
   ]
  },
  {
   "cell_type": "markdown",
   "metadata": {},
   "source": [
    "Let's go through a simple example of MapReduce. We're going to explain this in details later on but for now let's just focus on the `map` and `reduce` functions."
   ]
  },
  {
   "cell_type": "code",
   "execution_count": 5,
   "metadata": {},
   "outputs": [],
   "source": [
    "my_dict = {1: \"foo\", 2: \"bar\", 3: \"baz\"}\n",
    "my_distributed_dict = sc.parallelize([2, 1, 3]) # this can now be operated on in parallel"
   ]
  },
  {
   "cell_type": "code",
   "execution_count": 6,
   "metadata": {},
   "outputs": [],
   "source": [
    "my_distributed_dict_mapped = my_distributed_dict.map(lambda x: my_dict[x])"
   ]
  },
  {
   "cell_type": "code",
   "execution_count": 7,
   "metadata": {},
   "outputs": [],
   "source": [
    "# Concatenate the strings and capitalise the result\n",
    "my_distributed_dict_map_reduced = my_distributed_dict_mapped.reduce(lambda a, b: (a + b).upper())"
   ]
  },
  {
   "cell_type": "code",
   "execution_count": 8,
   "metadata": {},
   "outputs": [
    {
     "data": {
      "text/plain": [
       "'BARFOOBAZ'"
      ]
     },
     "execution_count": 8,
     "metadata": {},
     "output_type": "execute_result"
    }
   ],
   "source": [
    "# print(my_distributed_dict_map_reduced)\n",
    "my_distributed_dict_map_reduced"
   ]
  },
  {
   "cell_type": "markdown",
   "metadata": {},
   "source": [
    "## Resilient Distributed Datasets (RDDs)"
   ]
  },
  {
   "cell_type": "markdown",
   "metadata": {},
   "source": [
    "A __resilient distributed dataset (RDD)__ represents a collection of items which are __partitioned across the nodes__ of a cluster that can be __manipulated in parallel__.\n",
    "\n",
    "RDD objects are in one way or another similar to DataFrame objects in Pandas, in the sense that we load a dataset into an RDD and then apply any methods that are available to that object. We can __create RDDs by referencing a dataset__ in a local or an external storage system __or by parallelising an existing collection__ by calling SparkContext's parallelize method.\n",
    "\n",
    "A nice feature that RDDs have is that they automatically __recover in case of node failures__.\n",
    "\n",
    "Let's create a text file RDD from an external file using SparkContext's textFile method which takes the URI for the file located either on the local machine or externally (hdfs://, s3n://, ...) and reads it as a collection of lines. In the following example, we read the file from local storage."
   ]
  },
  {
   "cell_type": "code",
   "execution_count": 9,
   "metadata": {},
   "outputs": [],
   "source": [
    "sscistudy = sc.textFile(\"data/sscistudy.txt\")"
   ]
  },
  {
   "cell_type": "code",
   "execution_count": 10,
   "metadata": {},
   "outputs": [
    {
     "data": {
      "text/plain": [
       "data/sscistudy.txt MapPartitionsRDD[3] at textFile at NativeMethodAccessorImpl.java:0"
      ]
     },
     "execution_count": 10,
     "metadata": {},
     "output_type": "execute_result"
    }
   ],
   "source": [
    "# print(sscistudy)\n",
    "sscistudy"
   ]
  },
  {
   "cell_type": "markdown",
   "metadata": {},
   "source": [
    "The `sscistudy.txt` file is __not loaded into memory__. sscistudy is just a __pointer__ to the sscistudy.txt file.\n",
    "\n",
    "Another way to create RDDs, as we mentioned above, is by calling SparkContext's `parallelize` which is shown again in the next section."
   ]
  },
  {
   "cell_type": "markdown",
   "metadata": {},
   "source": [
    "## Transformations and Actions (RDD operations)"
   ]
  },
  {
   "cell_type": "markdown",
   "metadata": {},
   "source": [
    "[Transformations](http://spark.apache.org/docs/latest/programming-guide.html#transformations) return pointers to new RDDs, whereas [actions](http://spark.apache.org/docs/latest/programming-guide.html#actions) return values."
   ]
  },
  {
   "cell_type": "markdown",
   "metadata": {},
   "source": [
    "In this example we are counting how many times a city appears in our list of cities."
   ]
  },
  {
   "cell_type": "code",
   "execution_count": 11,
   "metadata": {},
   "outputs": [],
   "source": [
    "cities = [\"St. Petersburg\", \"Toronto\", \"St. Petersburg\", \"Oslo\", \"St. Petersburg\", \"Moscow\", \"London\", \"Bucharest\", \"St. Petersburg\", \"Oslo\", \"Bucharest\", \"Paris\", \"St. Petersburg\", \"Paris\", \"Paris\"]\n",
    "distributed_cities = sc.parallelize(cities, numSlices=6)"
   ]
  },
  {
   "cell_type": "markdown",
   "metadata": {},
   "source": [
    "When we call ``parallelize``, there is an important parameter for parallel collections -- this is the number of __partitions__ (or slices) to cut the data into. This is done automatically by Spark (based on your cluster) but you can manually change this parameter, as shown above."
   ]
  },
  {
   "cell_type": "code",
   "execution_count": 12,
   "metadata": {},
   "outputs": [],
   "source": [
    "distributed_cities_mapped = distributed_cities.map(lambda x: (x, 1))"
   ]
  },
  {
   "cell_type": "code",
   "execution_count": 13,
   "metadata": {},
   "outputs": [
    {
     "data": {
      "text/plain": [
       "[('St. Petersburg', 1),\n",
       " ('Toronto', 1),\n",
       " ('St. Petersburg', 1),\n",
       " ('Oslo', 1),\n",
       " ('St. Petersburg', 1),\n",
       " ('Moscow', 1),\n",
       " ('London', 1),\n",
       " ('Bucharest', 1),\n",
       " ('St. Petersburg', 1),\n",
       " ('Oslo', 1),\n",
       " ('Bucharest', 1),\n",
       " ('Paris', 1),\n",
       " ('St. Petersburg', 1),\n",
       " ('Paris', 1),\n",
       " ('Paris', 1)]"
      ]
     },
     "execution_count": 13,
     "metadata": {},
     "output_type": "execute_result"
    }
   ],
   "source": [
    "# print(distributed_cities_mapped.collect())\n",
    "distributed_cities_mapped.collect()"
   ]
  },
  {
   "cell_type": "code",
   "execution_count": 14,
   "metadata": {},
   "outputs": [],
   "source": [
    "distributed_cities_map_reduced = distributed_cities_mapped.reduceByKey(add)"
   ]
  },
  {
   "cell_type": "code",
   "execution_count": 15,
   "metadata": {
    "scrolled": true
   },
   "outputs": [
    {
     "data": {
      "text/plain": [
       "[('St. Petersburg', 5),\n",
       " ('Paris', 3),\n",
       " ('Oslo', 2),\n",
       " ('Bucharest', 2),\n",
       " ('Toronto', 1),\n",
       " ('Moscow', 1),\n",
       " ('London', 1)]"
      ]
     },
     "execution_count": 15,
     "metadata": {},
     "output_type": "execute_result"
    }
   ],
   "source": [
    "# We can chain operations, i.e. call multiple operations on an RDD in a single line\n",
    "# print(distributed_cities_map_reduced.sortBy(lambda x: -x[1]).collect())\n",
    "distributed_cities_map_reduced.sortBy(lambda x: -x[1]).collect()"
   ]
  },
  {
   "cell_type": "markdown",
   "metadata": {},
   "source": [
    "## Playing with a real dataset"
   ]
  },
  {
   "cell_type": "markdown",
   "metadata": {},
   "source": [
    "Let's return to our dataset (sscistudy.txt) that was loaded from the local hard drive.\n",
    "\n",
    "I thought it would be fun to grab the (now declassified) _Senate Select Committee on Intelligence study of the CIA's Detention and Interrogation Program_ document and squeeze out some information out of it without reading it. The document (which can be found [here](https://www.amnestyusa.org/pdfs/sscistudy1.pdf) in PDF format) is 525 pages long."
   ]
  },
  {
   "cell_type": "code",
   "execution_count": 16,
   "metadata": {},
   "outputs": [
    {
     "name": "stdout",
     "output_type": "stream",
     "text": [
      "Number of lines in sscistudy: 44434\n"
     ]
    }
   ],
   "source": [
    "print(\"Number of lines in sscistudy: %d\" %sscistudy.count())"
   ]
  },
  {
   "cell_type": "code",
   "execution_count": 17,
   "metadata": {},
   "outputs": [],
   "source": [
    "# Get the lengths of each line in the text file\n",
    "sscistudy_line_lengths = sscistudy.map(lambda line: len(line))"
   ]
  },
  {
   "cell_type": "code",
   "execution_count": 18,
   "metadata": {},
   "outputs": [
    {
     "data": {
      "text/plain": [
       "1872677"
      ]
     },
     "execution_count": 18,
     "metadata": {},
     "output_type": "execute_result"
    }
   ],
   "source": [
    "# Sum up the lengths of each line in the text file\n",
    "sscistudy_line_lengths.reduce(lambda x, y: x + y)"
   ]
  },
  {
   "cell_type": "markdown",
   "metadata": {},
   "source": [
    "`count()` and `reduce()` are actions as they return actual values (the number of lines in the text file and the sum of the lengths of all the lines in the text file).\n",
    "\n",
    "`map()` is a transformation as we used it to return a new RDD.\n",
    "\n",
    "It's important to note that __all transformations in Spark are lazy__, in the sense that they do not compute anything unless they need to. In other words, transformations are computed when an action needs a result to be returned to the driver program.\n",
    "\n",
    "We can recompute each transformed RDD as many times as we want but it would be much more efficient if we __persist an RDD in memory__ by using the `persist` (or cache) method which allows it to be reused across parallel operations. That is, if we wanted to perform an action on sscistudy_line_lengths and keep the value in memory for later use, we could do the following:"
   ]
  },
  {
   "cell_type": "code",
   "execution_count": 19,
   "metadata": {},
   "outputs": [
    {
     "data": {
      "text/plain": [
       "PythonRDD[19] at RDD at PythonRDD.scala:48"
      ]
     },
     "execution_count": 19,
     "metadata": {},
     "output_type": "execute_result"
    }
   ],
   "source": [
    "sscistudy_line_lengths.persist()"
   ]
  },
  {
   "cell_type": "markdown",
   "metadata": {},
   "source": [
    "Doing this, Spark will keep the items on the cluster for faster access when we next query them."
   ]
  },
  {
   "cell_type": "code",
   "execution_count": 20,
   "metadata": {},
   "outputs": [],
   "source": [
    "# We can also use the 'takeSample()' action\n",
    "sscistudy_sample = sscistudy.sample(withReplacement=False, fraction=0.01, seed=1235)"
   ]
  },
  {
   "cell_type": "code",
   "execution_count": 21,
   "metadata": {},
   "outputs": [
    {
     "data": {
      "text/plain": [
       "['Department of State, and the Office of the Director of National Intelligence in the',\n",
       " 'I began my service on the Senate Intelligence Committee in January 2001. I',\n",
       " '',\n",
       " 'President Obama signed Executive Order 13491 in January 2009 to prohibit the',\n",
       " 'written thousands of its pages, and has been integrallyinvolved in every Study',\n",
       " 'acquiring intelligence or gaining cooperation from detainees.',\n",
       " '',\n",
       " '',\n",
       " '',\n",
       " '',\n",
       " 'techniques on detainees, and (4) the effectiveness of the techniques. Those representations were',\n",
       " 'III!',\n",
       " 'provide proper leadership and management, were also not held to account.',\n",
       " 'that mistakes should be expected in a business filled with uncertainty,\" and \"the Director',\n",
       " 'was forced to relocate detainees out of every country in which it established a detention facility',\n",
       " '',\n",
       " 'Legal Defensefor Using Techniques Considered Torture; the CIA Conducts No Research on Effective',\n",
       " '6.',\n",
       " 'C.',\n",
       " 'Death ofGul Rahman Leads CIA Headquarters to Leam of UnreportedCoercive Interrogation',\n",
       " '',\n",
       " '',\n",
       " '',\n",
       " '',\n",
       " \"Department of Justice Renews Approvalfor the Useof the CIA's Enhanced Interrogation Techniques\",\n",
       " 'Program',\n",
       " '217',\n",
       " 'Enhanced Interrogation Techniques. This volume addresses the intelligence the CIA',\n",
       " 'by a series of meetings between the CIA and the Committee that concluded in September 2013.',\n",
       " \"effectiveness and operation of the CIA's Detention and Interrogation Program to the media, the\",\n",
       " 'Cofer Black.^^ The DCI also directed that all requests and approvals for capture and detention be',\n",
       " '\"determine [who poses] the requisite \\'continuing serious threat of violence or death to US',\n",
       " '//NOFORN',\n",
       " 'CIA itself determined were wrongfully detained.',\n",
       " '',\n",
       " '',\n",
       " 'the lack of security and the fact that Abu Zubaydah would have to be declared to the',\n",
       " '[REDACTED], [REDACTED], subject, NEW INFO; A-Z Interrogation Plan (\"I have thought about the 18 USC',\n",
       " 'personnel',\n",
       " 'Ori April 15, 2002, per a scripted plan, the same CIA interrogator',\n",
       " 'An April 16, 2002, cable explained that the interrogation strategy',\n",
       " 'Zabaidah\" and provided to the Senate Select Committee on Intelligence by cover letter dated July 20, 2010 (DTS',\n",
       " '',\n",
       " '',\n",
       " 'Chertoff, the head of the Department of Justice Criminal Division, and Daniel Levin, the chief of',\n",
       " '',\n",
       " 'Memorandum for the Record from John Moseman, Chief of Staff, re: NSC Weekly Meeting, July 31, 2002.',\n",
       " 'disclosure of the program in September 2006 and subsequent media outreach also suggest that',\n",
       " 'TOP SECRET/^',\n",
       " \"disturbed by the use of the CIA's enhanced interrogation techniques against Abu Zubaydah.\",\n",
       " '',\n",
       " '',\n",
       " 'October 2002 PDB stated Abu Zubaydah was still withliolding \"significant threat information,\"',\n",
       " 'Page 47 of 499',\n",
       " 'DETENTION SITE COBALT were blacked out and detainees were kept in total darkness. The',\n",
       " '',\n",
       " '3. CIA Headquarters Recommends That Untrained Interrogators in Country | Use the',\n",
       " '',\n",
       " '',\n",
       " '',\n",
       " 'debriefing of al-Najjar at DETENTION SITE COBALT and subsequently expressed an interest',\n",
       " 'Gul Rahman be shackled to the wall of his cell in a position that required the detainee to rest on',\n",
       " 'Rahman, the CIA Station in Country |recommended that^^^^fm^^^^I^OFFICER 1]',\n",
       " '',\n",
       " 'MUM',\n",
       " 'them and are satisfied with their qualifications and suitability for what are',\n",
       " 'identified a number of personnel whose backgrounds include notable derogatory information',\n",
       " 'In total, four CIA detention facilities were established in Country',\n",
       " 'that this new detention facility, DETENTION SITE ORANGE, \"will be a quantum leap',\n",
       " '^\"\\'Guidelineson Interrogations Conducted Pursuant to the Presidential Memorandum of Notification of 17',\n",
       " 'recorded in increasingly summarized form, providing little infomiation on how or when the techniqueswere applied',\n",
       " 'Inspector General, February 14, 2003. CTC Chief of Operations told the Inspector General that the program was',\n",
       " 'assess^ the',\n",
       " '10078',\n",
       " '',\n",
       " 'lived hunger strike that resulted in the CIA force feeding him rectally.^^^',\n",
       " '',\n",
       " '',\n",
       " '1. Ramzi Bin Al-Shibh Provides Information While in Foreign Government Custody, Prior',\n",
       " '',\n",
       " '',\n",
       " \"al-Shibh's interrogation was similar to other interrogations they had participated in, and that the\",\n",
       " 'See, for example, CIA |',\n",
       " 'TOP SECRET/',\n",
       " 'discuss operatives when confronted with information about their capture—behavior noted by',\n",
       " \"[a foreign government holding Sufaat] was likely to have known details of Yazid's involvement in al-\",\n",
       " '',\n",
       " 'I by [REDACTED] and [REDACTED], Office of the Inspector General,',\n",
       " 'Page 85 of 499',\n",
       " '',\n",
       " '',\n",
       " 'by [REDACTED] and [REDACTED], Office oftlie Inspector General, April 30,',\n",
       " '',\n",
       " '10884 (182140Z MAR 03)',\n",
       " 'HI ^^^39 (031541Z JUL 04). CIA',\n",
       " '',\n",
       " 'Majid Khan; date: March 20, 2003, at 03:40:17 PM. The ^^^(cabl^as formally sent to DETENTION SITE',\n",
       " '10932 (212132Z MAR 03)',\n",
       " '10948 (222101Z MAR 03),',\n",
       " 'See the sections of this summary and Volume II on the Identification and Arrests of Uzhair and Saifullah',\n",
       " '',\n",
       " '10983 (242321ZMAR 03)',\n",
       " 'For more information, see detainee reviews and reports in Volume III for Ramzi bin al-Shibh, Muhammad Umar',\n",
       " '',\n",
       " '',\n",
       " 'techniques, as well as detainees for whom interrogators had no approvals to use any of the',\n",
       " '',\n",
       " '',\n",
       " '',\n",
       " 'broomstick was not approved. See April 7, 2005, Briefing for Blue Ribbon Panel, CIA Rendition, Detention, and',\n",
       " '',\n",
       " \"10, 2004, to the U.S. Attorney's Office in the Eastern District of Virginia.^^^ The inspector\",\n",
       " '',\n",
       " 'national in his mid-fifties who was believed to have assisted Usama bin Laden in his escape',\n",
       " '',\n",
       " '2210(141507Z APR 05);',\n",
       " 'the CIA About Possible Lack of Policy Supportfor CIA Interrogation Activities',\n",
       " 'Page 116 of 499',\n",
       " 'that it had beenused against KSM 119 times and Abu Zubaydah 42 times.^^^ The presentation',\n",
       " 'custody in March 2004. The transfer letter described CIA detainee Ali Jan as \"the most tmsted',\n",
       " 'TOP SECRET//',\n",
       " 'driving interrogations,^^- as well as the lack of language andcultural background among',\n",
       " '',\n",
       " 'generation of officers is left to improvise anew, with problematic results for',\n",
       " 'Page 129 of 499',\n",
       " '',\n",
       " 'AN 04);|',\n",
       " '',\n",
       " 'Abu Ahmad to Bin Ladin.\"^^^ Hassan Ghul was',\n",
       " 'authorized in [the CIA program] to do anything like what you have seen in those',\n",
       " 'UNCLASSIFIED',\n",
       " 'June 4, 2004, Memorandum for the National Security Advisor from DCI George Tenet, re: Review of CIA',\n",
       " 'that \"unless CIA interrogators can use a full range of enhanced inteiTogation methods, it is',\n",
       " 'relating to Janat Gul on 20 July 2004.\"',\n",
       " 'attack planning for the pre-election threat. ||^mi|^^HI||||i> the CIA source admitted to',\n",
       " '',\n",
       " 'III!',\n",
       " '',\n",
       " 'Page 140 of 499',\n",
       " 'was cited by Secretary Powell in his speech to the United Nations, and was used as a justification for the 2003',\n",
       " '',\n",
       " 'stated with \"bitter',\n",
       " 'L. The Pace of CIA Operations Slows; Chief of Base Concerned About \"Inexperienced,',\n",
       " 'operations, was captured in Pakistan, the OLC had not yet issued the three aforementioned May',\n",
       " '[REDACTEDUREDACrED]^[REDACTED], [REDACTED], [REDACTED]; subject: for coord, pis: D/CIA',\n",
       " '',\n",
       " '',\n",
       " 'relationship.\" (See \"[REDACTED] article fallout.\") Despite this record, and other records in the full Committee',\n",
       " '927 [REDACTED] 7885 ([REDACTED] [REDACTED])',\n",
       " 'Headquarters also questioned the \"willingness of',\n",
       " '',\n",
       " '',\n",
       " '\\x0cUNCLASSIFIED',\n",
       " '',\n",
       " 'See Assets/nybooks.com/media/doc/2010/04/022/icrc—report.pdf and detainee reviews and reports in Volume',\n",
       " 'document was unsigned, and the author is unknown. A subsequent version, with identical text, was titled CTC/RDG',\n",
       " 'Geneva Conventions to Certain Techniques thatMay Be Used by theCIA in the Intenogation of High Value al',\n",
       " 'session. After a session that lasted 104 hours, CIA Headquarters consulted with tlie Department of Justice and',\n",
       " '12467 (211341Z JUL 07);',\n",
       " 'According to CIA records, intermittent questioning of Rahim',\n",
       " '[, as a Secure Compartmented Infomiation Facility (SCIF), which required',\n",
       " 'and provided Company Y access to CIA internal',\n",
       " '',\n",
       " 'TOP SECRET/',\n",
       " '\"Background on Key Intelligence Impacts Chart: Attachment,\" and \"supporting references,\" to include \"Background',\n",
       " \"Michael Hayden testimony to the SSCI on Decembe^^^OOT^egardin^h^ublic revelation of the CIA's\",\n",
       " '',\n",
       " \"Agency's Al-Qa'ida program has been very effective. •\",\n",
       " 'told the OIG that he was convinced that KSM \"knows more and is just',\n",
       " 'information that KSM had not provided until he was asked specifically about the matters by CIA',\n",
       " '',\n",
       " '//NF) During this same period in 2003, CIA officers were compiling',\n",
       " '',\n",
       " '',\n",
       " \"January 16, 2002. Abu Zubaydah provided information on potential places al-Qa'ida might target, including banks\",\n",
       " \"the CIA's enhanced interrogation techniques against CIA detainees. Jose Rodriguez, then CTC\",\n",
       " \"of enhanced interrogation techniques ('EITs') has almost certainly saved\",\n",
       " 'large about the sophistication of USG methods and underscore the seriousness of American',\n",
       " 'commitment to prosecute aggressively the War on Terrorism.\"\"\\'^ The following month, the',\n",
       " '[REDACTED], [REDACTED; cc;',\n",
       " '',\n",
       " \"did not address the other representation in the president's speech—that Abu Zubaydah\",\n",
       " '',\n",
       " \"that Klialid Shaykh Mohammad (KSM) was the 9/11 mastermind and used the moniker 'Mukhtar.' This\",\n",
       " '2006.\"',\n",
       " 'See reporting charts in the Abu Zubaydah detainee review in Volume III.',\n",
       " 'II III I',\n",
       " 'time by providing truthful revelations on the threat which may save countless lives.\"',\n",
       " 'l( III I',\n",
       " 'Bradbury at Office of Legal Counsel,Dep<u-tment of',\n",
       " '',\n",
       " 'materials attached to cover memorandum with the title, \"D/CIA Conference Room Seating Visit by President-elect',\n",
       " 'Finally, the CIA attributed to KSM, along with Abu Zubaydah, the',\n",
       " 'CIA memorandum for the Record, \"Review of Interrogation Program on 29 July 2003,\"prepared by CIA',\n",
       " '',\n",
       " \"Below are the summaries of the CIA's eight most frequendy cited\",\n",
       " '\\x0cUNCLASSIFIED',\n",
       " 'which relied on a series of liighly specific CIA representations on the type of intelligence acquired from the use of',\n",
       " '',\n",
       " '',\n",
       " '',\n",
       " '',\n",
       " '\\x0cUNCLASSIFIED',\n",
       " '\"CIA\\'s use of DOJ-approved enhanced interrogation techniques, as part of a',\n",
       " '',\n",
       " '',\n",
       " 'Community on June 3, 2005. On March 31, 2009, former Vice President Cheney requested the declassification of',\n",
       " 'Seeintelligence chronology in Volume II for detailed information. See also statements by UnitedStates',\n",
       " 'Steven G. Bradbury, Principal Deputy Assistant Attorney General, Officeof Legal Counsel,May 30, 2005, Re:',\n",
       " '\\'Second Wave.\\'\"\\'^®^',\n",
       " '',\n",
       " 'UNCLASSIFIED',\n",
       " \"that led to Abu Talha al-Pakistani's detention. CIA records indicate, however, that Abu Talha al-Pakistani was\",\n",
       " 'government custody at the time of this disclosure. KSM\\'s failure to mention Abu Talha/\"Suliman,\" more than a',\n",
       " 'not have been discovered or reported by other means.\" The document provides examples of',\n",
       " 'and',\n",
       " '',\n",
       " '',\n",
       " 'to:',\n",
       " \"'525aLEC^H\",\n",
       " '',\n",
       " 'James Ujaama providing exact location data forIssaal-Hindi. As noted, however, senior CIA personnel expressed',\n",
       " '3924',\n",
       " 'From beginning to end cyber played a role, but it was not the only tool that was',\n",
       " \"detainee [Abu Talha al-Pakistani] also noted that some of Issa's operatives\",\n",
       " '',\n",
       " \"Citing CIA documents and the President's September 6,2006, speech describing the CIA's interrogation program\",\n",
       " 'Ressam.^^^^ Ressam, currently serving a 65-year U.S. prison term, was arrested on December',\n",
       " 'hard a target.\"^^^^ On neither occasion did KSM reference lyman Paris.',\n",
       " '',\n",
       " '|, who was reading the intelligence from the foreign government interrogations of Majid',\n",
       " 'UNCLASSIFIED',\n",
       " 'and the Department of Justice represent the discovery, identification, capture, and/or arrest of',\n",
       " '',\n",
       " 'techniques was unique, otherwise unavailable, and resulted in \"saved lives.\" Among other CIA representations, see:',\n",
       " 'and disrupt\\'^ terrorist threats. The OLC memorandum further states that \"[the CIA] ha[s] informed [the OLC] that',\n",
       " \"effectiveness of the CIA's enhanced interrogation techniques referenced in this summary and described in detail in\",\n",
       " '',\n",
       " 'Detainee Treatment Act (the \"McCain amendment\"). The letter stated:',\n",
       " 'of \"an alternative set\" of interrogation procedures and stating: \"These are some of the plots that have been stopped',\n",
       " 'detailed in this summary and morefully in Volume II, the CIA represented that the information acquired \"as a result',\n",
       " 'al-Baluchi, and Ramzi bin al-Shibh were involved in or knowledgeable about the plotting;',\n",
       " 'Bulletin from March 2006 states: \"the [Heathrow Airport] operation was disrupted mid-cycle,',\n",
       " 'Coord: Please Respond by 14:00 Today (3/22).',\n",
       " 'm||||^fl^87 (130716Z MAR 03). As described, the CIA represented that KSM \"first repeatedly denied',\n",
       " '[REDACTED], [REDACTED]; subject: action detainee',\n",
       " '',\n",
       " \"records indicate that the intelligence that led to Hambali's capture was based on signals\",\n",
       " 'According to bin Arshad, after KSM\\'s \"Second Wave\" plotting was \"abandoned\" in late 2001,',\n",
       " 'Hambali. What I tell my people is you work really, really hard to be in a',\n",
       " '',\n",
       " \"Group that KSM was a top priority tai'get for the United States.The Congressional\",\n",
       " 'AM.',\n",
       " '\"compliant\" and reveal the information the CIA believed he was withholding—the names of operatives in the',\n",
       " '',\n",
       " 'Ramzi bin al-Shibh, as a man he knew as al-Shiba, and stated al-Shiba was with KSM in',\n",
       " \"information Abu Zubaydah provided prior to the application of the CIA's enhanced interrogation\",\n",
       " 'techniques, or was otherwise already known to the CIA. CIA records indicate that as early as',\n",
       " '',\n",
       " '',\n",
       " 'UNCLASSIFIED',\n",
       " \"switch type mechanisms, modified circuit and 'game' boards and other miscellaneous wires with\",\n",
       " '33363 (111226ZSEP02)',\n",
       " '',\n",
       " 'wrote',\n",
       " 'ASSET X, a potential CIA source whose access to KSM through',\n",
       " '',\n",
       " 'number of CTC officers in an email with the subject line: \"Re; [ASSET X] Information Re',\n",
       " 'used by the teamJjB^HIHHHiiHHi^lHIH^I-',\n",
       " '',\n",
       " 'shortly thereafter, ASSET X found',\n",
       " 'Comments to Draft IG Special Review, \"CounterteiTorismDetention and Interrogation Program\" (2003-7123-IG);',\n",
       " '',\n",
       " '',\n",
       " 'detention program is critical to our ability to protect the American homeland and US forces and citizens abroad from',\n",
       " 'Draft cable',\n",
       " 'date: May II, 2005, at 5:42:50 PM.',\n",
       " '',\n",
       " \"'92'' CIA WASHINGTON DC\",\n",
       " '',\n",
       " '(RDI)\" including \"Tab 7,\" named \"RDG Copy- Briefing on RDI Program 09 Jan. 2009.\" Referenced materials',\n",
       " 'noted that \"i [sic] have always been concerned that [the asset]',\n",
       " 'homeland. Gul\\'s denial was deemed a \"strong resistance posture\" by CIA detention site',\n",
       " 'Used in the Interrogation of High Value Al Qaeda Detainees.',\n",
       " 'Used in the Interrogation of High Value Al Qaeda Detainees.',\n",
       " '(181929Z JUN 03), disseminated as',\n",
       " '',\n",
       " 'and friends in the United States, causing Tayyar to flee the United States.',\n",
       " 'Page 360 of 499',\n",
       " '142247 (210357Z JUL 03); email from:',\n",
       " '2060 \"Khalid Shaykh Muhammad\\'s Tlireat Reporting - Precious Truths, Sunounded by a Bodyguard of Lies,\" IICT,',\n",
       " 'Response states that \"[t]his mistake was not, as it is characterized in the \\'Findings and Conclusions section of the',\n",
       " 'to Afghanistan in 2001 to join in jihad against the United States,^®^^ and that al-Marri was',\n",
       " 'on value',\n",
       " '',\n",
       " 'Blintrainingin Shkai, butwasapprehendedin Islamabad. {See',\n",
       " '1679',\n",
       " 'DIRECTOR^^^H^^H JAN',\n",
       " '',\n",
       " 'February 9, 2004, itintended to hold the information on Shkai until theDCTsvisitt^aki^',\n",
       " 'wh^wa^eolocated to a specific area of Pakistan, was likely Abu Ahmad al-Kuwaiti. In August 2010, Abu Ahmad',\n",
       " 'detainee on Abu Alimad al-Kuwaiti and his unique links to UBL was from Hassan Ghul, and was acquired prior to',\n",
       " 'I nil mil I',\n",
       " '',\n",
       " \"relationship to the information and the fact that I'm not a speciahst on that\",\n",
       " '',\n",
       " 'UNCLASSIFIED',\n",
       " 'CIA officers. In April 2004, Abu Zubaydah again stated that he did not recognize the',\n",
       " '',\n",
       " \"acquired in 2002, from sources unrelatedto the CIA's Detention and Interrogation Program.\",\n",
       " '',\n",
       " 'that detaining Habib should be a last resort, since we have had no/no success in',\n",
       " 'See information in Volume II intelligence chronology for additional details.',\n",
       " \"seeking to shape press reporting on the CIA's Detention and\",\n",
       " '|g||||||m||||||m. g^m|||||n||||||^',\n",
       " '',\n",
       " 'In late 2005, the CIA decided to cooperate again with Douglas Jehl',\n",
       " '',\n",
       " '',\n",
       " '',\n",
       " '',\n",
       " '',\n",
       " '2003.',\n",
       " 'The one-paragraph letter did not provide legal analysis or substantive discussion of the interrogation techniques.',\n",
       " '',\n",
       " 'noted that DOJ personnel had \"taken to calling',\n",
       " \"the CIA's enhanced interrogation techniques despite their medical conditions.\",\n",
       " 'manipulation, (2) nudity, (3) attention grasp, (4) walling, (5) facial hold, (6) facial slap or insult',\n",
       " 'begins participating,\" (4) the interrogation techniques \"would not be used on a detainee not',\n",
       " '',\n",
       " '18 U.S.C. Sections 2340-2340A to Certain Techniques That May be Used in tlie Interrogation of a High Value al',\n",
       " 'and [REDACTED]; subject: Re: Departure; date: March 6,',\n",
       " 'For more information, see Volume III.',\n",
       " \"CIA's enhanced interrogation techniques. KSM was subjected to CIA's enhanced inteiTogation\",\n",
       " 'aid to interrogation; detainees who were \"participating at an acceptable level\" were permitted to',\n",
       " '',\n",
       " 'Agency Detention Facilities (DTS #2009-1810, Tab 13).',\n",
       " 'enhanced interrogation techniques. The memorandum noted that, while the Hamdan decision',\n",
       " '6439',\n",
       " 'location of senior al-Qa\\'ida leadership. Examples include, among others: Asadullah,^\"^^^ Mustafa',\n",
       " 'the Act \"reflected an endorsement\" from Congress that the CIA program \"was consistent with',\n",
       " 'Tab 14).',\n",
       " 'Letter from Senator Dianne Feinstein to Director Hayden, September 27, 2006 (DTS #2006-3717).',\n",
       " 'The only record of the briefing, a two-page CIA memorandum, states that CIA officers:',\n",
       " 'CIA detention facilities.During the first briefing, on May 12, 2004, Committee members',\n",
       " 'which related to the habeas corpus rights of detainees at Guantanamo Bay, resulted in the transfer of CIA detainees',\n",
       " 'four years later, in June 2008, by which time the CIA was no longer detaining individuals.^\"*^^',\n",
       " '[REDACTED], [REDACTED], [REDACTED],',\n",
       " '',\n",
       " \"CIA's enhanced interrogation techniques were combined in practice. According toCommittee records, CIA\",\n",
       " 'the West Coast/Second Wave plotting, the Heathrow Airport plotting, and the Karachi plotting. As detailed inthis',\n",
       " 'program as follows:',\n",
       " '',\n",
       " 'Military Commissions Act. As described, the Department of Justice later concluded that the',\n",
       " '',\n",
       " 'limited to the IArmy] field manual, we are left with very little offense and are',\n",
       " '',\n",
       " '\\x0c1(11',\n",
       " 'Abbar al-Hawari, aka Abu Sufiyan',\n",
       " 'Haji Ghalgi',\n",
       " '••§^•>002',\n",
       " '',\n",
       " '',\n",
       " '',\n",
       " '',\n",
       " '',\n",
       " '{^•2003',\n",
       " '',\n",
       " '',\n",
       " '',\n",
       " '',\n",
       " '',\n",
       " '(DTS #2009-2529); CIA detainee charts provided to the Committee on April 27, 2007; document in Committee',\n",
       " 'Sampling of Information',\n",
       " 'officers next interrogated Abu Zubaydah, they',\n",
       " '',\n",
       " \"DUNBAR's] ideas about what\",\n",
       " '//NOFORN',\n",
       " '',\n",
       " '',\n",
       " 'in, observing or teaching - or otherwise associated',\n",
       " 'DIRECTOR HAYDEN: \"[The',\n",
       " '',\n",
       " '//NOFORN',\n",
       " 'CIA \"psychologists objected to the use of on-site',\n",
       " '',\n",
       " 'inteiTogation techniques, while noting he did not',\n",
       " 'prepared remarks by Director Hayden to President-elect Obama\\'s national security team state: \"Tliere have',\n",
       " '',\n",
       " '',\n",
       " 'Based on that1 captured',\n",
       " 'During his aiTest, Lillie was',\n",
       " 'productively debrief the detainee.',\n",
       " 'begin to ask him things we really',\n",
       " '2639 Numerous detainees were stripped andshackled, nude, in thestanding stress position for sleep deprivation or',\n",
       " 'UNCLASSIFIED',\n",
       " 'DIRECTOR HAYDEN:',\n",
       " 'records do not indicate that CIA detainees described a',\n",
       " 'had \"prayed his \\'Istikharah\\' (seeking God\\'s guidance) and',\n",
       " '',\n",
       " 'detainees believe they are',\n",
       " '\\x0cUNCLASSIFIED',\n",
       " 'ofhummus, pasta with sauce, nuts, and raisins',\n",
       " '340981',\n",
       " '',\n",
       " '',\n",
       " \"also suffered from pedaledema-^^'^ resulting from\",\n",
       " 'armed chained above the head [?]',\n",
       " 'decision to accept certiorari in the case of Rasul v. Bush',\n",
       " 'date: JanuaryH|2004; email from: Scott Mulle^o^fame^avittJjjjj^^^HBj; cc: Geo^^en^John']"
      ]
     },
     "execution_count": 21,
     "metadata": {},
     "output_type": "execute_result"
    }
   ],
   "source": [
    "# print(sscistudy_sample.collect())\n",
    "sscistudy_sample.collect()"
   ]
  },
  {
   "cell_type": "markdown",
   "metadata": {},
   "source": [
    "### Let's do a bit of Natural Language Processing"
   ]
  },
  {
   "cell_type": "markdown",
   "metadata": {},
   "source": [
    "Upper-case and lower-case words are counted separately, and thus turning every word to lower-case letters will solve this problem. Let's also remove punctuation."
   ]
  },
  {
   "cell_type": "markdown",
   "metadata": {},
   "source": [
    "We can of course do more processing but that's not the point here. The interested reader can go ahead and clean the text as much as they want to."
   ]
  },
  {
   "cell_type": "code",
   "execution_count": 22,
   "metadata": {},
   "outputs": [],
   "source": [
    "def cleanupText(s):\n",
    "    return(re.sub(\"[^a-zA-Z0-9\\s]+\",\"\", s).lower().strip())"
   ]
  },
  {
   "cell_type": "markdown",
   "metadata": {},
   "source": [
    "Explanation of the regular expression above:\n",
    "\n",
    "* []: any of the following\n",
    "\n",
    "* ^: anything that doesn't contain\n",
    "\n",
    "* a-z; A-Z; 0-9: self-explanatory\n",
    "\n",
    "* \\s: whitespace\n",
    "\n",
    "* +: one or more of the preceding token"
   ]
  },
  {
   "cell_type": "markdown",
   "metadata": {},
   "source": [
    "Let's do a quick check and see if this ``cleanupText`` function does what we want."
   ]
  },
  {
   "cell_type": "code",
   "execution_count": 23,
   "metadata": {},
   "outputs": [],
   "source": [
    "my_string = \"Mercury is my favourite planet! Why? Because of its orbit around the sun! D'oh! Mercury... oh yes! Mercury!\""
   ]
  },
  {
   "cell_type": "code",
   "execution_count": 24,
   "metadata": {},
   "outputs": [
    {
     "data": {
      "text/plain": [
       "'mercury is my favourite planet why because of its orbit around the sun doh mercury oh yes mercury'"
      ]
     },
     "execution_count": 24,
     "metadata": {},
     "output_type": "execute_result"
    }
   ],
   "source": [
    "cleanupText(my_string)"
   ]
  },
  {
   "cell_type": "code",
   "execution_count": 25,
   "metadata": {},
   "outputs": [],
   "source": [
    "sscistudy_list = sscistudy.map(cleanupText)"
   ]
  },
  {
   "cell_type": "code",
   "execution_count": 26,
   "metadata": {},
   "outputs": [
    {
     "data": {
      "text/plain": [
       "['never again allow for secret indefinite detention and the use of coercive',\n",
       " '',\n",
       " 'interrogations as the study describes prior to the attacks of september 2001 the',\n",
       " 'cia itself determined from its own experience with coercive interrogations that',\n",
       " 'such techniques do not produce intelligence will probably result in false',\n",
       " 'answers and had historically proven to be ineffective yet these conclusions',\n",
       " '',\n",
       " 'were ignored we cannot again allow history to be forgotten and grievous past',\n",
       " 'mistakes to be repeated',\n",
       " '',\n",
       " 'page 3 of 6',\n",
       " 'unclassified',\n",
       " '',\n",
       " 'unclassified',\n",
       " '',\n",
       " 'president obama signed executive order 13491 in january 2009 to prohibit the',\n",
       " 'cia from holding detainees other than on a shortterm transitory basis and to',\n",
       " 'limit interrogation techniques to those includedin the army field manual',\n",
       " 'however these limitations are not part of us law and could be overturned by a',\n",
       " 'future president with the stroke of a pen they should be enshrined in legislation',\n",
       " 'even so existing us law and treaty obligations should have prevented many of',\n",
       " 'the abuses and mistakes made during this program while the office of legal',\n",
       " 'counsel found otherwise between 2002 and 2007 it is my personal conclusion',\n",
       " 'that under any common meaning of the term cia detainees were tortured i also',\n",
       " 'believe that the conditions of confinement and the use of authorized and',\n",
       " '',\n",
       " 'unauthorized interrogation and conditioning techniques were cruel inhuman and',\n",
       " 'degrading i believe the evidence of this is overwhelming and incontrovertible',\n",
       " 'while the conmiittee did not make specific recommendations several emerge',\n",
       " 'from the committees review the cia in its june 2013 response to the',\n",
       " 'committees study from december 2012 has also already made and begun to',\n",
       " 'implement its own recommendations i intend to work with senate colleagues to',\n",
       " 'produce recommendations and to solicit views from the readers of the committee',\n",
       " 'study',\n",
       " '',\n",
       " 'i would also like to take this opportunity to describe the process of this study',\n",
       " 'as noted previously the committee approved the terms of reference for the',\n",
       " 'study in march 2009 and began requesting information from the cia and other',\n",
       " 'federal departments the committee through its staff had already reviewed in',\n",
       " '2008 thousands of cia cables describing the interrogations of the cia detainees',\n",
       " 'abu zubaydah and abd alrahim alnashiri whose interrogations were the',\n",
       " 'subject of videotapes that were destroyed by the cia in 2005',\n",
       " 'the 2008 review was complicated by the existence of a department of justice',\n",
       " 'investigation opened by attorney geiieral michael mukasey into the destruction',\n",
       " 'of the videotapes and expanded by attomey general holder in august 2009 in',\n",
       " 'particular cia employees and contractors who would otherwise have been',\n",
       " 'interviewed by the committee staff were under potential legal jeopardy and',\n",
       " 'therefore the cia would not compel its workforce to appear before the committee',\n",
       " 'this constraint lasted until the committees research and documentary review',\n",
       " 'were completed and the committee study had largely been finalized']"
      ]
     },
     "execution_count": 26,
     "metadata": {},
     "output_type": "execute_result"
    }
   ],
   "source": [
    "# print(sscistudy_list.take(200)[150:])\n",
    "sscistudy_list.take(200)[150:]"
   ]
  },
  {
   "cell_type": "code",
   "execution_count": 27,
   "metadata": {},
   "outputs": [],
   "source": [
    "# Split each element of the RDD by its spaces.\n",
    "sscistudy_words = sscistudy_list.flatMap(lambda x: x.split(\" \"))"
   ]
  },
  {
   "cell_type": "code",
   "execution_count": 28,
   "metadata": {},
   "outputs": [
    {
     "data": {
      "text/plain": [
       "['2007',\n",
       " '',\n",
       " 'the',\n",
       " 'full',\n",
       " 'committee',\n",
       " 'study',\n",
       " 'which',\n",
       " 'totals',\n",
       " 'more',\n",
       " 'than',\n",
       " '6700',\n",
       " 'pages',\n",
       " 'remains',\n",
       " 'classified',\n",
       " 'but',\n",
       " 'is',\n",
       " 'now',\n",
       " 'an',\n",
       " 'official',\n",
       " 'senate',\n",
       " 'report',\n",
       " 'the',\n",
       " 'full',\n",
       " 'report',\n",
       " 'has',\n",
       " 'been',\n",
       " 'provided',\n",
       " 'to',\n",
       " 'the',\n",
       " 'white',\n",
       " 'house',\n",
       " 'the',\n",
       " 'cia',\n",
       " 'the',\n",
       " 'department',\n",
       " 'of',\n",
       " 'justice',\n",
       " 'the',\n",
       " 'department',\n",
       " 'of',\n",
       " 'defense',\n",
       " 'the',\n",
       " '',\n",
       " 'department',\n",
       " 'of',\n",
       " 'state',\n",
       " 'and',\n",
       " 'the',\n",
       " 'office',\n",
       " 'of']"
      ]
     },
     "execution_count": 28,
     "metadata": {},
     "output_type": "execute_result"
    }
   ],
   "source": [
    "# print(sscistudy_words.take(200)[150:])\n",
    "sscistudy_words.take(200)[150:]"
   ]
  },
  {
   "cell_type": "markdown",
   "metadata": {},
   "source": [
    "We notice that we have some empty elements and they don't add anything of importance to our analysis so let's get rid of them."
   ]
  },
  {
   "cell_type": "code",
   "execution_count": 29,
   "metadata": {},
   "outputs": [],
   "source": [
    "# Keep all the non-empty elements\n",
    "sscistudy_words_nospaces = sscistudy_words.filter(lambda x: len(x) != 0)"
   ]
  },
  {
   "cell_type": "markdown",
   "metadata": {},
   "source": [
    "Creating word pairs helps us with counting the frequency of words, so let's do that."
   ]
  },
  {
   "cell_type": "code",
   "execution_count": 30,
   "metadata": {},
   "outputs": [],
   "source": [
    "sscistudy_word_pairs = sscistudy_words_nospaces.map(lambda x: (x, 1))"
   ]
  },
  {
   "cell_type": "code",
   "execution_count": 31,
   "metadata": {},
   "outputs": [
    {
     "data": {
      "text/plain": [
       "[('classified', 1),\n",
       " ('nofqrn', 1),\n",
       " ('top', 1),\n",
       " ('secret', 1),\n",
       " ('senate', 1),\n",
       " ('select', 1),\n",
       " ('comiiiittee', 1),\n",
       " ('on', 1),\n",
       " ('infelligeoee', 1),\n",
       " ('committee', 1),\n",
       " ('study', 1),\n",
       " ('ofthe', 1),\n",
       " ('centralintelligence', 1),\n",
       " ('agmcy', 1),\n",
       " ('s', 1),\n",
       " ('detention', 1),\n",
       " ('and', 1),\n",
       " ('interrogation', 1),\n",
       " ('program', 1),\n",
       " ('sbg53', 1),\n",
       " ('foreword', 1),\n",
       " ('by', 1),\n",
       " ('senate', 1),\n",
       " ('select', 1),\n",
       " ('committee', 1)]"
      ]
     },
     "execution_count": 31,
     "metadata": {},
     "output_type": "execute_result"
    }
   ],
   "source": [
    "# print(sscistudy_word_pairs.take(25))\n",
    "sscistudy_word_pairs.take(25)"
   ]
  },
  {
   "cell_type": "markdown",
   "metadata": {},
   "source": [
    "We use the `reduceByKey()` transformation to count the frequency of words."
   ]
  },
  {
   "cell_type": "code",
   "execution_count": 32,
   "metadata": {},
   "outputs": [],
   "source": [
    "sscistudy_word_count = sscistudy_word_pairs.reduceByKey(lambda x, y: x + y)"
   ]
  },
  {
   "cell_type": "code",
   "execution_count": 33,
   "metadata": {},
   "outputs": [
    {
     "data": {
      "text/plain": [
       "[('secret', 464),\n",
       " ('select', 186),\n",
       " ('comiiiittee', 1),\n",
       " ('infelligeoee', 1),\n",
       " ('centralintelligence', 3),\n",
       " ('s', 57),\n",
       " ('chairman', 105),\n",
       " ('bianne', 1),\n",
       " ('findings', 25),\n",
       " ('executive', 58),\n",
       " ('approved', 94),\n",
       " ('132012', 2),\n",
       " ('april', 421),\n",
       " ('2014', 10),\n",
       " ('revisions', 3),\n",
       " ('ml', 10),\n",
       " ('4', 222),\n",
       " ('voted', 5),\n",
       " ('send', 14),\n",
       " ('of', 8751),\n",
       " ('subsequent', 59),\n",
       " ('public', 86),\n",
       " ('this', 1042),\n",
       " ('action', 54),\n",
       " ('decision', 53),\n",
       " ('in', 5092),\n",
       " ('but', 293),\n",
       " ('an', 931),\n",
       " ('investigation', 122),\n",
       " ('into', 151)]"
      ]
     },
     "execution_count": 33,
     "metadata": {},
     "output_type": "execute_result"
    }
   ],
   "source": [
    "# print(sscistudy_word_count.take(30))\n",
    "sscistudy_word_count.take(30)"
   ]
  },
  {
   "cell_type": "markdown",
   "metadata": {},
   "source": [
    "Let's clean up our text a tad more using the NLP library `nltk`."
   ]
  },
  {
   "cell_type": "code",
   "execution_count": 34,
   "metadata": {},
   "outputs": [
    {
     "name": "stdout",
     "output_type": "stream",
     "text": [
      "[nltk_data] Downloading package stopwords to\n",
      "[nltk_data]     /Users/iulian/nltk_data...\n",
      "[nltk_data]   Unzipping corpora/stopwords.zip.\n"
     ]
    }
   ],
   "source": [
    "nltk.download(\"stopwords\")\n",
    "stopwords = stopwords.words(\"english\")"
   ]
  },
  {
   "cell_type": "code",
   "execution_count": 35,
   "metadata": {},
   "outputs": [],
   "source": [
    "# Keep all the words that are not stop words. Remember that 'x' is actually a pair: (word, count)\n",
    "sscistudy_word_count = sscistudy_word_count.filter(lambda x: x[0] not in stopwords)"
   ]
  },
  {
   "cell_type": "code",
   "execution_count": 36,
   "metadata": {},
   "outputs": [],
   "source": [
    "word_count_top20 = sscistudy_word_count.takeOrdered(20, lambda x: -x[1])"
   ]
  },
  {
   "cell_type": "code",
   "execution_count": 37,
   "metadata": {},
   "outputs": [
    {
     "data": {
      "text/plain": [
       "[('cia', 6109),\n",
       " ('interrogation', 2510),\n",
       " ('cias', 1891),\n",
       " ('techniques', 1764),\n",
       " ('abu', 1683),\n",
       " ('information', 1663),\n",
       " ('redacted', 1464),\n",
       " ('intelligence', 1426),\n",
       " ('detention', 1274),\n",
       " ('see', 1273),\n",
       " ('enhanced', 1265),\n",
       " ('2003', 1107),\n",
       " ('program', 1078),\n",
       " ('unclassified', 1058),\n",
       " ('detainees', 1021),\n",
       " ('ksm', 992),\n",
       " ('provided', 849),\n",
       " ('zubaydah', 844),\n",
       " ('use', 843),\n",
       " ('general', 831)]"
      ]
     },
     "execution_count": 37,
     "metadata": {},
     "output_type": "execute_result"
    }
   ],
   "source": [
    "# print(word_count_top20)\n",
    "word_count_top20"
   ]
  },
  {
   "cell_type": "markdown",
   "metadata": {},
   "source": [
    "This isn't a surprise that CIA is the most frequent word in this document. What's interesting is that the word \"Abu\" is the 5th most frequent word. It turns out that Abu Zubaydah is a CIA detainee."
   ]
  },
  {
   "cell_type": "markdown",
   "metadata": {},
   "source": [
    "### Visualising our results"
   ]
  },
  {
   "cell_type": "code",
   "execution_count": 38,
   "metadata": {},
   "outputs": [],
   "source": [
    "most_common_words = [word[0] for word in word_count_top20]\n",
    "most_common_count = [count[1] for count in word_count_top20]"
   ]
  },
  {
   "cell_type": "code",
   "execution_count": 39,
   "metadata": {},
   "outputs": [],
   "source": [
    "sscistudy_words_frequency = {'word': most_common_words, 'frequency': most_common_count}"
   ]
  },
  {
   "cell_type": "code",
   "execution_count": 40,
   "metadata": {},
   "outputs": [],
   "source": [
    "df = pd.DataFrame(sscistudy_words_frequency)\n",
    "# df.head()"
   ]
  },
  {
   "cell_type": "code",
   "execution_count": 41,
   "metadata": {},
   "outputs": [
    {
     "data": {
      "image/png": "[encoded data removed]",
      "text/plain": [
       "<matplotlib.figure.Figure at 0x116f5d9b0>"
      ]
     },
     "metadata": {},
     "output_type": "display_data"
    }
   ],
   "source": [
    "# Chart the words against their corresponding frequencies\n",
    "fig, ax = plt.subplots(figsize=(20, 10))\n",
    "sns.barplot(data=df, x='frequency', y='word')\n",
    "# ax.set(xlabel=\"Frequency\", ylabel=\"Word\", title=\"Frequency of the most 20 common words\")\n",
    "ax.set_xlabel(\"Frequency\", fontsize=20)\n",
    "ax.set_ylabel(\"Word\", fontsize=20)\n",
    "ax.set_title(\"Frequency of the most 20 common words in the SSCI's study of CIA's Detention and Interrogation Program\", fontsize=20)\n",
    "ax.tick_params(labelsize=15)"
   ]
  },
  {
   "cell_type": "code",
   "execution_count": 42,
   "metadata": {},
   "outputs": [
    {
     "data": {
      "image/png": "[encoded data removed]",
      "text/plain": [
       "<matplotlib.figure.Figure at 0x116ebaf28>"
      ]
     },
     "metadata": {},
     "output_type": "display_data"
    }
   ],
   "source": [
    "word_cloud = WordCloud(width=600, height=400, background_color=\"white\", max_font_size=70, relative_scaling=0.5)\n",
    "word_cloud.generate(' '.join(df['word']))\n",
    "plt.figure()\n",
    "plt.imshow(word_cloud)\n",
    "plt.axis('off')\n",
    "plt.show()"
   ]
  },
  {
   "cell_type": "markdown",
   "metadata": {},
   "source": [
    "## Monitoring Spark applications"
   ]
  },
  {
   "cell_type": "markdown",
   "metadata": {
    "collapsed": true
   },
   "source": [
    "Spark comes with a web UI (or to be more precise, it's the driver program that has a web UI). If you're running Spark locally, then going to http://localhost:4040/ will take you to the user interface. If you're not running Spark locally, then replace localhost with the address of the driver's node."
   ]
  }
 ],
 "metadata": {
  "kernelspec": {
   "display_name": "Python 3",
   "language": "python",
   "name": "python3"
  },
  "language_info": {
   "codemirror_mode": {
    "name": "ipython",
    "version": 3
   },
   "file_extension": ".py",
   "mimetype": "text/x-python",
   "name": "python",
   "nbconvert_exporter": "python",
   "pygments_lexer": "ipython3",
   "version": "3.6.0"
  }
 },
 "nbformat": 4,
 "nbformat_minor": 2
}
